{
 "cells": [
  {
   "cell_type": "markdown",
   "id": "0ae63dbe-8317-46f3-b510-909fb099b8e7",
   "metadata": {},
   "source": [
    "### Initialize Stuff"
   ]
  },
  {
   "cell_type": "code",
   "execution_count": 1,
   "id": "2f0c99ec-8ed1-4f96-b821-a28d411ad6e1",
   "metadata": {},
   "outputs": [],
   "source": [
    "from jira import JIRA\n",
    "from jira.client import ResultList\n",
    "from jira.resources import Issue\n",
    "from IPython.display import display, HTML, display_html\n",
    "import pandas as pd\n",
    "import numpy as np\n",
    "import keyring  \n",
    "import requests\n",
    "import json\n",
    "from requests.auth import HTTPBasicAuth\n",
    "from bs4 import BeautifulSoup\n",
    "from atlassian import Confluence\n",
    "from dateutil import parser\n",
    "from datetime import datetime\n",
    "import datetime as DT\n",
    "\n",
    "import xlwt\n",
    "from xlwt import Workbook"
   ]
  },
  {
   "cell_type": "markdown",
   "id": "238a6fb3-af49-472b-a8c5-f2e3c98b2274",
   "metadata": {},
   "source": [
    "### Initialize Variables"
   ]
  },
  {
   "cell_type": "code",
   "execution_count": 2,
   "id": "40cb5b21-0929-49f3-85c4-e927ad3bf7af",
   "metadata": {},
   "outputs": [],
   "source": [
    "#get the authentication password from windows credential manager\n",
    "JIRA_USER = \"dapte\"\n",
    "JIRA_URL = \"https://jira.opentext.com/\"\n",
    "CONFLUENCE_URL = 'https://confluence.opentext.com'\n",
    "\n",
    "keyring_cred=keyring.get_password('keyring_cred', JIRA_USER)\n",
    "\n",
    "#instantiate a jira object.\n",
    "jira = JIRA(\n",
    "    server = JIRA_URL,\n",
    "    basic_auth=(JIRA_USER, keyring_cred)\n",
    ")\n",
    "\n",
    "\n",
    "confluence = Confluence(\n",
    "    url= CONFLUENCE_URL,\n",
    "    username=JIRA_USER, password=keyring_cred\n",
    ")\n",
    "\n",
    "userlist = []\n",
    "userlist.append(JIRA_USER)"
   ]
  },
  {
   "cell_type": "code",
   "execution_count": 3,
   "id": "ba586aab-c0ce-4122-a7ad-1adf71f6840e",
   "metadata": {},
   "outputs": [],
   "source": [
    "### Helper Functions"
   ]
  },
  {
   "cell_type": "code",
   "execution_count": 4,
   "id": "b2a34e16-db4e-42c5-843b-e35e9ad8a789",
   "metadata": {},
   "outputs": [],
   "source": [
    "# creates jira object using the credentials stored in key_ring ,if not gets them from the user.\n",
    "def jira_authenticator(username,password):\n",
    "    pass\n",
    "\n",
    "# Get a valid date range. takes a user from the user , validates the format. defaults to 1 week.\n",
    "def get_daterange(fromdate,todate):\n",
    "    pass\n",
    "\n",
    "def create_user_list(userlist):\n",
    "    pass\n",
    "\n",
    "\n"
   ]
  },
  {
   "cell_type": "markdown",
   "id": "5bdd7fae-8551-4e87-8a8d-e149d0c4a163",
   "metadata": {},
   "source": [
    "### Get all the user list to want the worklog hours for below"
   ]
  },
  {
   "cell_type": "code",
   "execution_count": 5,
   "id": "76bdd003-0183-44f3-b5a9-ab9e0f1f62b5",
   "metadata": {},
   "outputs": [
    {
     "name": "stdout",
     "output_type": "stream",
     "text": [
      "This utlity can be used to generate the worklog hours for you in the duration you specify . ( recent 1 week by default ). \n"
     ]
    },
    {
     "name": "stdin",
     "output_type": "stream",
     "text": [
      "[yyyy/mm/dd] Please enter the Date from: 2021/06/01\n",
      "[yyyy/mm/dd] please enter the Date To: 2021/06/30\n"
     ]
    },
    {
     "name": "stdout",
     "output_type": "stream",
     "text": [
      "valid date\n",
      "['msowjanya']\n"
     ]
    }
   ],
   "source": [
    "def validate(date_text):\n",
    "    try:\n",
    "        if date_text != datetime.strptime(date_text, \"%Y/%m/%d\").strftime('%Y/%m/%d'):\n",
    "            raise ValueError\n",
    "        return True\n",
    "    except ValueError:\n",
    "        return False\n",
    "    \n",
    "print(\"This utlity can be used to generate the worklog hours for you in the duration you specify . ( recent 1 week by default ). \")\n",
    "fromDate =  input(\"[yyyy/mm/dd] Please enter the Date from:\")\n",
    "toDate = input(\"[yyyy/mm/dd] please enter the Date To:\")\n",
    "\n",
    "today = DT.date.today()\n",
    "week_ago = today - DT.timedelta(days=7)\n",
    "\n",
    "if validate(fromDate) and validate(toDate) :\n",
    "    print(\"valid date\")\n",
    "else:\n",
    "    print(\"invalid date entered , data will be collected for past 1 week from today ie: from :[\"+str(week_ago)+\"] to [\"+str(today)+\"]\")\n",
    "    fromDate = week_ago\n",
    "    toDate = today\n",
    "#userlist = [\"amareshk\", \"ssinghyadav\"]\n",
    "#userlist = [\"msowjanya\"]\n",
    "\n",
    "#userlist = [\"sbillakanti\"]\n",
    "#userlist = [\"gsreeram\"]\n",
    "userlist = [\"cmp\",\"pthakekar\",\"jtiwari\",\"ynaikgau\",\"rashmip\",\"malathir\",\"pbn\",\"dnayak\",\"pnatarajan\",\"nadigs\",\"rramanathan\",\"sahua\",\"spradhan\",\"bkonapal\",\"krangana\",\"bparthasarat\",\"vdash\",\"bbisht\",\"mmackowiak\",\"sdobry\",\"bhavyashreer\",\"ssinghyadav\",\"gfernandaz\",\"ekaveripakam\",\"amareshk\",\"vmanchan\",\"asengupt\",\"aishwaryab\",\"dapte\"]\n",
    "print(userlist)\n",
    "#getUsername:"
   ]
  },
  {
   "cell_type": "markdown",
   "id": "6facac56-a437-467a-b6b6-847bf60ad0a3",
   "metadata": {},
   "source": [
    "### Data Processing Step"
   ]
  },
  {
   "cell_type": "code",
   "execution_count": 6,
   "id": "f3022fd4-7da5-454a-afd5-9832a70f8d65",
   "metadata": {},
   "outputs": [
    {
     "name": "stdout",
     "output_type": "stream",
     "text": [
      "worklogAuthor in ( msowjanya) and worklogDate >= '2021/06/01' and worklogDate <=  '2021/06/30'\n",
      "0     LTCOPS-4125\n",
      "1     LTCOPS-4108\n",
      "2     LTCOPS-4085\n",
      "3     LTCOPS-4079\n",
      "4     LTCOPS-4056\n",
      "5     LTCOPS-4052\n",
      "6     LTCOPS-4043\n",
      "7     LTCOPS-4034\n",
      "8     LTCOPS-4030\n",
      "9     LTCOPS-4006\n",
      "10    LTCOPS-3971\n",
      "11    LTCOPS-3958\n",
      "12    LTCOPS-3953\n",
      "13    LTCOPS-3942\n",
      "14    LTCOPS-3909\n",
      "15    LTCOPS-3906\n",
      "16    LTCOPS-3886\n",
      "17    LTCOPS-3883\n",
      "18    LTCOPS-3877\n",
      "19    LTCOPS-3872\n",
      "20    LTCOPS-3871\n",
      "21    LTCOPS-3869\n",
      "22    LTCOPS-3850\n",
      "23    LTCOPS-3757\n",
      "24    LTCOPS-3756\n",
      "25    LTCOPS-3753\n",
      "dtype: string\n",
      "           jira              user     userid                     timestamp  \\\n",
      "0   LTCOPS-4125  Makkena Sowjanya  msowjanya  2021-06-28T06:18:00.000-0400   \n",
      "1   LTCOPS-4108  Makkena Sowjanya  msowjanya  2021-06-30T02:02:00.000-0400   \n",
      "2   LTCOPS-4085  Makkena Sowjanya  msowjanya  2021-06-24T07:15:00.000-0400   \n",
      "3   LTCOPS-4079  Makkena Sowjanya  msowjanya  2021-06-24T07:28:00.000-0400   \n",
      "4   LTCOPS-4056  Makkena Sowjanya  msowjanya  2021-06-23T02:30:00.000-0400   \n",
      "5   LTCOPS-4052  Makkena Sowjanya  msowjanya  2021-06-23T02:32:00.000-0400   \n",
      "6   LTCOPS-4043  Makkena Sowjanya  msowjanya  2021-06-22T06:01:00.000-0400   \n",
      "7   LTCOPS-4034  Makkena Sowjanya  msowjanya  2021-06-22T04:57:00.000-0400   \n",
      "8   LTCOPS-4030  Makkena Sowjanya  msowjanya  2021-06-21T01:50:00.000-0400   \n",
      "9   LTCOPS-4006  Makkena Sowjanya  msowjanya  2021-06-17T04:00:00.000-0400   \n",
      "10  LTCOPS-3971  Makkena Sowjanya  msowjanya  2021-06-15T06:19:00.000-0400   \n",
      "11  LTCOPS-3958  Makkena Sowjanya  msowjanya  2021-06-14T07:52:00.000-0400   \n",
      "12  LTCOPS-3958  Makkena Sowjanya  msowjanya  2021-06-15T10:33:00.000-0400   \n",
      "13  LTCOPS-3953  Makkena Sowjanya  msowjanya  2021-06-14T07:05:00.000-0400   \n",
      "14  LTCOPS-3953  Makkena Sowjanya  msowjanya  2021-06-17T07:26:00.000-0400   \n",
      "15  LTCOPS-3942  Makkena Sowjanya  msowjanya  2021-06-14T07:04:00.000-0400   \n",
      "16  LTCOPS-3909  Makkena Sowjanya  msowjanya  2021-06-14T04:16:00.000-0400   \n",
      "17  LTCOPS-3906  Makkena Sowjanya  msowjanya  2021-06-11T04:15:00.000-0400   \n",
      "18  LTCOPS-3886  Makkena Sowjanya  msowjanya  2021-06-08T07:57:00.000-0400   \n",
      "19  LTCOPS-3883  Makkena Sowjanya  msowjanya  2021-06-08T07:59:00.000-0400   \n",
      "20  LTCOPS-3877  Makkena Sowjanya  msowjanya  2021-06-08T07:58:00.000-0400   \n",
      "21  LTCOPS-3872  Makkena Sowjanya  msowjanya  2021-06-08T04:57:00.000-0400   \n",
      "22  LTCOPS-3871  Makkena Sowjanya  msowjanya  2021-06-08T04:57:00.000-0400   \n",
      "23  LTCOPS-3869  Makkena Sowjanya  msowjanya  2021-06-07T04:55:00.000-0400   \n",
      "24  LTCOPS-3869  Makkena Sowjanya  msowjanya  2021-06-07T04:56:00.000-0400   \n",
      "25  LTCOPS-3850  Makkena Sowjanya  msowjanya  2021-06-04T10:23:00.000-0400   \n",
      "26  LTCOPS-3850  Makkena Sowjanya  msowjanya  2021-06-08T07:13:00.000-0400   \n",
      "27  LTCOPS-3757  Makkena Sowjanya  msowjanya  2021-06-01T10:30:00.000-0400   \n",
      "28  LTCOPS-3756  Makkena Sowjanya  msowjanya  2021-06-01T10:30:00.000-0400   \n",
      "29  LTCOPS-3753  Makkena Sowjanya  msowjanya  2021-06-01T10:31:00.000-0400   \n",
      "\n",
      "    Hours comment                                            summary  labels  \n",
      "0     1.0                                         SFTP setup request      []  \n",
      "1     1.0                                    Unrestrict user account      []  \n",
      "2     1.0                                       Whitelist IP address      []  \n",
      "3     2.0          Validate that S1 is installed and communicatin...      []  \n",
      "4     1.0                                    Unrestrict user account      []  \n",
      "5     1.0                      Perceptiv AWS - Account is restricted      []  \n",
      "6     1.0                    Unrestrict user account - hsbc.45050710      []  \n",
      "7     1.0                        LOPONDEM01 - 3rd Party SFTP request      []  \n",
      "8     1.0                         Unrestrict account - hsbc.43854541      []  \n",
      "9     1.0                          Not able to access gh.rmcloud.int      []  \n",
      "10    1.0                    Restart of Admin host - DBPEVER01AM001       []  \n",
      "11    1.0                  Unrestrict user account  - hsbc.43858857       []  \n",
      "12    1.0                  Unrestrict user account  - hsbc.43858857       []  \n",
      "13    1.0                    Unrestrict user account - hsbc.45055337      []  \n",
      "14    1.0                    Unrestrict user account - hsbc.45055337      []  \n",
      "15    1.0          AWS LOPNRFGB01 - 3rd Party Restricted SFTP req...  [sftp]  \n",
      "16    2.0           “Permission denied. Contact your administrato...      []  \n",
      "17    1.0                                   Unrestrict user accounts      []  \n",
      "18    1.0                    Unrestrict user account  - hsbc.4385443      []  \n",
      "19    1.0          DBPONDEM01 - 3rd Party SFTP site request - Pro...  [sftp]  \n",
      "20    1.0                   Unrestrict user account  - hsbc.43814748      []  \n",
      "21    1.0            Unrestrict User Account - Alam KHAIRUL 05473675      []  \n",
      "22    1.0                    Unrestrict user account - hsbc.43695638      []  \n",
      "23    1.0           AWS - OnDemand - Restricted FTP Setup - Dema Law   [AWS]  \n",
      "24    1.0           AWS - OnDemand - Restricted FTP Setup - Dema Law   [AWS]  \n",
      "25    1.0                                   Unrestrict user account       []  \n",
      "26    1.0                                   Unrestrict user account       []  \n",
      "27    1.0          Recommind Domain access request 198509693 for ...      []  \n",
      "28    1.0          Recommind Domain access request 198508036 for ...      []  \n",
      "29    1.0                        LOPONDEM01 - 3rd Party SFTP request  [sftp]  \n"
     ]
    }
   ],
   "source": [
    "#  JQL looks like this :  worklogAuthor in ( <username1> ...<usernameN>) and worklogDate >= '<fromDate>' and worklogDate <=  '<toDate>'\n",
    "\n",
    "# TBD - maxResult capping to 500. can this go higher ? \n",
    "# TBD - error handling\n",
    "#build the JQL based on the Userlist and the Date Range\n",
    "jiralist=\"worklogAuthor in ( \"\n",
    "users=\"\"\n",
    "for user in userlist:\n",
    "    users = users+user+\", \"\n",
    "    \n",
    "# strip the last comma and add the user in the JQL\n",
    "jiralistJQL=jiralist+users[:-2]+\") and worklogDate >= '\"+str(fromDate)+\"' and worklogDate <=  '\"+str(toDate)+\"'\"\n",
    "print(jiralistJQL)\n",
    "issues =pd.Series(jira.search_issues(jiralistJQL, maxResults=500, fields= 'key', json_result = None),dtype=pd.StringDtype())\n",
    "\n",
    "print(issues)\n",
    "\n",
    "# https://your-domain.atlassian.net/rest/api/2/issue/{issueIdOrKey}/worklog\n",
    "jiraReportDataFrame = pd.DataFrame(columns=[\"jira\", \"user\",\"userid\",\"timestamp\",\"Hours\",\"comment\",\"summary\",\"labels\"])\n",
    "\n",
    "issues =pd.Series(jira.search_issues(jiralistJQL, maxResults=500, fields= 'key', json_result = None),dtype=pd.StringDtype())\n",
    "i=0\n",
    "for issue in issues:\n",
    "    isu = jira.issue(str(issue))\n",
    "    #i=i+1\n",
    "    #print(\"call to jira\" + str(i)+ issue)\n",
    "    labels = isu.fields.labels\n",
    "    summary = isu.fields.summary\n",
    "    worklogs=isu.fields.worklog.worklogs\n",
    "    for worklog in worklogs:\n",
    "        if userlist.count(worklog.author.name) != 0 :\n",
    "            jiraReportDataFrame = jiraReportDataFrame.append({\n",
    "            'jira':isu,\n",
    "            'user':worklog.author,\n",
    "            'userid':worklog.author.name,\n",
    "            'timestamp':worklog.started,\n",
    "            'Hours':(worklog.timeSpentSeconds/3600),\n",
    "                'comment':worklog.comment,\n",
    "                'labels':labels,\n",
    "                'summary':summary\n",
    "                \n",
    "            },ignore_index=True)\n",
    "    \n",
    "table_user_util = pd.pivot_table(jiraReportDataFrame,index=[\"userid\"],values=[\"Hours\"],aggfunc=np.sum)\n",
    "#if table_user_util.empty:\n",
    "#    totalHours = 0\n",
    "#else:\n",
    "#    totalHours = round(table_user_util.iloc[0][0],2)\n",
    "\n",
    "#print(\"You have spent :\"+ str(totalHours) +\" Hours, Details have been commited to an output.xlsx file\")\n",
    "print(jiraReportDataFrame)\n",
    "\n",
    "jiraReportDataFrame.to_excel(\"output.xlsx\") "
   ]
  },
  {
   "cell_type": "code",
   "execution_count": 7,
   "id": "63a6d867-869e-42b2-bffa-52285665b82a",
   "metadata": {},
   "outputs": [],
   "source": [
    "##"
   ]
  },
  {
   "cell_type": "code",
   "execution_count": null,
   "id": "daafb20b-1ab2-45b5-bbd9-6393a8698462",
   "metadata": {},
   "outputs": [],
   "source": []
  },
  {
   "cell_type": "code",
   "execution_count": null,
   "id": "dfaab752-8f71-464e-b635-4a6941e58922",
   "metadata": {},
   "outputs": [],
   "source": []
  }
 ],
 "metadata": {
  "kernelspec": {
   "display_name": "Python 3",
   "language": "python",
   "name": "python3"
  },
  "language_info": {
   "codemirror_mode": {
    "name": "ipython",
    "version": 3
   },
   "file_extension": ".py",
   "mimetype": "text/x-python",
   "name": "python",
   "nbconvert_exporter": "python",
   "pygments_lexer": "ipython3",
   "version": "3.9.5"
  }
 },
 "nbformat": 4,
 "nbformat_minor": 5
}
