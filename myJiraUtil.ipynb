{
 "cells": [
  {
   "cell_type": "markdown",
   "id": "0ae63dbe-8317-46f3-b510-909fb099b8e7",
   "metadata": {},
   "source": [
    "### Initialize Stuff"
   ]
  },
  {
   "cell_type": "code",
   "execution_count": 4,
   "id": "2f0c99ec-8ed1-4f96-b821-a28d411ad6e1",
   "metadata": {},
   "outputs": [],
   "source": [
    "from jira import JIRA\n",
    "from jira.client import ResultList\n",
    "from jira.resources import Issue\n",
    "from IPython.display import display, HTML, display_html\n",
    "import pandas as pd\n",
    "import numpy as np\n",
    "import keyring  \n",
    "import requests\n",
    "import json\n",
    "from requests.auth import HTTPBasicAuth\n",
    "from bs4 import BeautifulSoup\n",
    "from atlassian import Confluence"
   ]
  },
  {
   "cell_type": "markdown",
   "id": "238a6fb3-af49-472b-a8c5-f2e3c98b2274",
   "metadata": {},
   "source": [
    "### Initialize Variables"
   ]
  },
  {
   "cell_type": "code",
   "execution_count": 10,
   "id": "40cb5b21-0929-49f3-85c4-e927ad3bf7af",
   "metadata": {},
   "outputs": [],
   "source": [
    "#get the authentication password from windows credential manager\n",
    "JIRA_USER = \"dapte\"\n",
    "JIRA_URL = \"https://jira.opentext.com/\"\n",
    "CONFLUENCE_URL = 'https://confluence.opentext.com'\n",
    "\n",
    "keyring_cred=keyring.get_password('keyring_cred', JIRA_USER)\n",
    "\n",
    "#instantiate a jira object.\n",
    "jira = JIRA(\n",
    "    server = JIRA_URL,\n",
    "    basic_auth=(JIRA_USER, keyring_cred)\n",
    ")\n",
    "\n",
    "\n",
    "confluence = Confluence(\n",
    "    url= CONFLUENCE_URL,\n",
    "    username=JIRA_USER, password=keyring_cred\n",
    ")\n",
    "\n",
    "userlist = []\n",
    "userlist.append(JIRA_USER)"
   ]
  },
  {
   "cell_type": "markdown",
   "id": "5bdd7fae-8551-4e87-8a8d-e149d0c4a163",
   "metadata": {},
   "source": [
    "### Get all the user list to want the worklog hours for below"
   ]
  },
  {
   "cell_type": "code",
   "execution_count": 11,
   "id": "76bdd003-0183-44f3-b5a9-ab9e0f1f62b5",
   "metadata": {},
   "outputs": [
    {
     "name": "stdout",
     "output_type": "stream",
     "text": [
      "['dapte']\n"
     ]
    }
   ],
   "source": [
    "print(\"This utlity can be used to generate the worklog hours for you is the duration you specify . ( recent 1 week by default ). \")\n",
    "\n",
    "#userlist = [\"amareshk\", \"ssinghyadav\"]\n",
    "#userlist = [\"sbillakanti\"]\n",
    "\n",
    "#userlist = [\"cmp\",\"pthakekar\",\"jtiwari\",\"ynaikgau\",\"rashmip\",\"malathir\",\"pbn\",\"dnayak\",\"pnatarajan\",\"nadigs\",\"rramanathan\",\"sahua\",\"spradhan\",\"bkonapal\",\"krangana\",\"bparthasarat\",\"vdash\",\"bbisht\",\"mmackowiak\",\"sdobry\",\"bhavyashreer\",\"ssinghyadav\",\"gfernandaz\",\"ekaveripakam\",\"amareshk\",\"vmanchan\",\"asengupt\",\"aishwaryab\",\"dapte\"]\n",
    "print(userlist)\n",
    "#getUsername:"
   ]
  },
  {
   "cell_type": "markdown",
   "id": "2ffde25c-b99b-46b6-bdb5-93b69e5b67fd",
   "metadata": {},
   "source": [
    "### Get a Date range."
   ]
  },
  {
   "cell_type": "code",
   "execution_count": 5,
   "id": "fda32219-7cd6-495d-9b1b-57a3f3ccbdec",
   "metadata": {},
   "outputs": [],
   "source": [
    "# the date / time range between which the data needs to be be gathered for. format yyyy/mm/dd\n",
    "fromDate='2021/6/1'\n",
    "toDate='2021/6/27'\n"
   ]
  },
  {
   "cell_type": "markdown",
   "id": "6facac56-a437-467a-b6b6-847bf60ad0a3",
   "metadata": {},
   "source": [
    "### Data Processing Step"
   ]
  },
  {
   "cell_type": "code",
   "execution_count": 6,
   "id": "f3022fd4-7da5-454a-afd5-9832a70f8d65",
   "metadata": {},
   "outputs": [
    {
     "name": "stdout",
     "output_type": "stream",
     "text": [
      "worklogAuthor in ( sbillakanti) and worklogDate >= '2021/6/1' and worklogDate <=  '2021/6/27'\n",
      "0     LTCOPS-3915\n",
      "1    L3DISCO-5670\n",
      "dtype: object\n"
     ]
    }
   ],
   "source": [
    "#  JQL looks like this :  worklogAuthor in ( <username1> ...<usernameN>) and worklogDate >= '<fromDate>' and worklogDate <=  '<toDate>'\n",
    "\n",
    "# TBD - maxResult capping to 500. can this go higher ? \n",
    "# TBD - error handling\n",
    "#build the JQL based on the Userlist and the Date Range\n",
    "jiralist=\"worklogAuthor in ( \"\n",
    "users=\"\"\n",
    "for user in userlist:\n",
    "    users = users+user+\", \"\n",
    "    \n",
    "# strip the last comma and add the user in the JQL\n",
    "jiralistJQL=jiralist+users[:-2]+\") and worklogDate >= '\"+fromDate+\"' and worklogDate <=  '\"+toDate+\"'\"\n",
    "print(jiralistJQL)\n",
    "issues =pd.Series(jira.search_issues(jiralistJQL, maxResults=500, fields= 'key', json_result = None))\n",
    "print(issues)"
   ]
  },
  {
   "cell_type": "code",
   "execution_count": null,
   "id": "63a6d867-869e-42b2-bffa-52285665b82a",
   "metadata": {},
   "outputs": [],
   "source": []
  }
 ],
 "metadata": {
  "kernelspec": {
   "display_name": "Python 3",
   "language": "python",
   "name": "python3"
  },
  "language_info": {
   "codemirror_mode": {
    "name": "ipython",
    "version": 3
   },
   "file_extension": ".py",
   "mimetype": "text/x-python",
   "name": "python",
   "nbconvert_exporter": "python",
   "pygments_lexer": "ipython3",
   "version": "3.9.5"
  }
 },
 "nbformat": 4,
 "nbformat_minor": 5
}
