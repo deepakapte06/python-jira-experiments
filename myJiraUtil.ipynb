{
 "cells": [
  {
   "cell_type": "markdown",
   "id": "0ae63dbe-8317-46f3-b510-909fb099b8e7",
   "metadata": {},
   "source": [
    "### Initialize Stuff"
   ]
  },
  {
   "cell_type": "code",
   "execution_count": 1,
   "id": "2f0c99ec-8ed1-4f96-b821-a28d411ad6e1",
   "metadata": {},
   "outputs": [],
   "source": [
    "from jira import JIRA\n",
    "from jira.client import ResultList\n",
    "from jira.resources import Issue\n",
    "from IPython.display import display, HTML, display_html\n",
    "import pandas as pd\n",
    "import numpy as np\n",
    "import keyring  \n",
    "import requests\n",
    "import json\n",
    "from requests.auth import HTTPBasicAuth\n",
    "from bs4 import BeautifulSoup\n",
    "from atlassian import Confluence\n",
    "from dateutil import parser\n",
    "from datetime import datetime\n",
    "import datetime as DT\n",
    "\n",
    "import xlwt\n",
    "from xlwt import Workbook"
   ]
  },
  {
   "cell_type": "markdown",
   "id": "238a6fb3-af49-472b-a8c5-f2e3c98b2274",
   "metadata": {},
   "source": [
    "### Initialize Variables"
   ]
  },
  {
   "cell_type": "code",
   "execution_count": 2,
   "id": "40cb5b21-0929-49f3-85c4-e927ad3bf7af",
   "metadata": {},
   "outputs": [],
   "source": [
    "#get the authentication password from windows credential manager\n",
    "JIRA_USER = \"dapte\"\n",
    "JIRA_URL = \"https://jira.opentext.com/\"\n",
    "CONFLUENCE_URL = 'https://confluence.opentext.com'\n",
    "\n",
    "keyring_cred=keyring.get_password('keyring_cred', JIRA_USER)\n",
    "\n",
    "#instantiate a jira object.\n",
    "jira = JIRA(\n",
    "    server = JIRA_URL,\n",
    "    basic_auth=(JIRA_USER, keyring_cred)\n",
    ")\n",
    "\n",
    "\n",
    "confluence = Confluence(\n",
    "    url= CONFLUENCE_URL,\n",
    "    username=JIRA_USER, password=keyring_cred\n",
    ")\n",
    "\n",
    "userlist = []\n",
    "userlist.append(JIRA_USER)"
   ]
  },
  {
   "cell_type": "markdown",
   "id": "5bdd7fae-8551-4e87-8a8d-e149d0c4a163",
   "metadata": {},
   "source": [
    "### Get all the user list to want the worklog hours for below"
   ]
  },
  {
   "cell_type": "code",
   "execution_count": 3,
   "id": "76bdd003-0183-44f3-b5a9-ab9e0f1f62b5",
   "metadata": {},
   "outputs": [
    {
     "name": "stdout",
     "output_type": "stream",
     "text": [
      "This utlity can be used to generate the worklog hours for you in the duration you specify . ( recent 1 week by default ). \n"
     ]
    },
    {
     "name": "stdin",
     "output_type": "stream",
     "text": [
      "[yyyy/mm/dd] Please enter the Date from: \n",
      "[yyyy/mm/dd] please enter the Date To: \n"
     ]
    },
    {
     "name": "stdout",
     "output_type": "stream",
     "text": [
      "invalid date entered , data will be collected for past 1 week from today ie: from :[2021-06-22] to [2021-06-29]\n",
      "['dapte']\n"
     ]
    }
   ],
   "source": [
    "def validate(date_text):\n",
    "    try:\n",
    "        if date_text != datetime.strptime(date_text, \"%Y/%m/%d\").strftime('%Y/%m/%d'):\n",
    "            raise ValueError\n",
    "        return True\n",
    "    except ValueError:\n",
    "        return False\n",
    "    \n",
    "print(\"This utlity can be used to generate the worklog hours for you in the duration you specify . ( recent 1 week by default ). \")\n",
    "fromDate =  input(\"[yyyy/mm/dd] Please enter the Date from:\")\n",
    "toDate = input(\"[yyyy/mm/dd] please enter the Date To:\")\n",
    "\n",
    "today = DT.date.today()\n",
    "week_ago = today - DT.timedelta(days=7)\n",
    "\n",
    "if validate(fromDate) and validate(toDate) :\n",
    "    print(\"valid date\")\n",
    "else:\n",
    "    print(\"invalid date entered , data will be collected for past 1 week from today ie: from :[\"+str(week_ago)+\"] to [\"+str(today)+\"]\")\n",
    "    fromDate = week_ago\n",
    "    toDate = today\n",
    "#userlist = [\"amareshk\", \"ssinghyadav\",\"bbisht\"]\n",
    "#userlist = [\"sbillakanti\"]\n",
    "\n",
    "#userlist = [\"cmp\",\"pthakekar\",\"jtiwari\",\"ynaikgau\",\"rashmip\",\"malathir\",\"pbn\",\"dnayak\",\"pnatarajan\",\"nadigs\",\"rramanathan\",\"sahua\",\"spradhan\",\"bkonapal\",\"krangana\",\"bparthasarat\",\"vdash\",\"bbisht\",\"mmackowiak\",\"sdobry\",\"bhavyashreer\",\"ssinghyadav\",\"gfernandaz\",\"ekaveripakam\",\"amareshk\",\"vmanchan\",\"asengupt\",\"aishwaryab\",\"dapte\"]\n",
    "print(userlist)\n",
    "#getUsername:"
   ]
  },
  {
   "cell_type": "markdown",
   "id": "6facac56-a437-467a-b6b6-847bf60ad0a3",
   "metadata": {},
   "source": [
    "### Data Processing Step"
   ]
  },
  {
   "cell_type": "code",
   "execution_count": 4,
   "id": "f3022fd4-7da5-454a-afd5-9832a70f8d65",
   "metadata": {},
   "outputs": [
    {
     "name": "stdout",
     "output_type": "stream",
     "text": [
      "worklogAuthor in ( dapte) and worklogDate >= '2021-06-22' and worklogDate <=  '2021-06-29'\n",
      "Series([], dtype: string)\n",
      "You have spent :0 Hours, Details have been commited to an output.xlsx file\n",
      "Empty DataFrame\n",
      "Columns: [jira, user, userid, timestamp, Hours, comment, labels]\n",
      "Index: []\n"
     ]
    }
   ],
   "source": [
    "#  JQL looks like this :  worklogAuthor in ( <username1> ...<usernameN>) and worklogDate >= '<fromDate>' and worklogDate <=  '<toDate>'\n",
    "\n",
    "# TBD - maxResult capping to 500. can this go higher ? \n",
    "# TBD - error handling\n",
    "#build the JQL based on the Userlist and the Date Range\n",
    "jiralist=\"worklogAuthor in ( \"\n",
    "users=\"\"\n",
    "for user in userlist:\n",
    "    users = users+user+\", \"\n",
    "    \n",
    "# strip the last comma and add the user in the JQL\n",
    "jiralistJQL=jiralist+users[:-2]+\") and worklogDate >= '\"+str(fromDate)+\"' and worklogDate <=  '\"+str(toDate)+\"'\"\n",
    "print(jiralistJQL)\n",
    "issues =pd.Series(jira.search_issues(jiralistJQL, maxResults=500, fields= 'key', json_result = None),dtype=pd.StringDtype())\n",
    "\n",
    "print(issues)\n",
    "\n",
    "# https://your-domain.atlassian.net/rest/api/2/issue/{issueIdOrKey}/worklog\n",
    "jiraReportDataFrame = pd.DataFrame(columns=[\"jira\", \"user\",\"userid\",\"timestamp\",\"Hours\",\"comment\",\"labels\"])\n",
    "\n",
    "for issue in issues:\n",
    "    isu = jira.issue(str(issue))\n",
    "    labels = isu.fields.labels\n",
    "    worklogs=isu.fields.worklog.worklogs\n",
    "    for worklog in worklogs:\n",
    "        if userlist.count(worklog.author.name) != 0 :\n",
    "            jiraReportDataFrame = jiraReportDataFrame.append({\n",
    "            'jira':isu,\n",
    "            'user':worklog.author,\n",
    "            'userid':worklog.author.name,\n",
    "            'timestamp':worklog.created,\n",
    "            'Hours':(worklog.timeSpentSeconds/3600),\n",
    "                'comment':worklog.comment,\n",
    "                'labels':labels\n",
    "                \n",
    "            },ignore_index=True)\n",
    "    \n",
    "table_user_util = pd.pivot_table(jiraReportDataFrame,index=[\"userid\"],values=[\"Hours\"],aggfunc=np.sum)\n",
    "if table_user_util.empty:\n",
    "    totalHours = 0\n",
    "else:\n",
    "    totalHours = round(table_user_util.iloc[0][0],2)\n",
    "\n",
    "print(\"You have spent :\"+ str(totalHours) +\" Hours, Details have been commited to an output.xlsx file\")\n",
    "#print(jiraReportDataFrame)\n",
    "\n",
    "jiraReportDataFrame.to_excel(\"output.xlsx\") "
   ]
  },
  {
   "cell_type": "code",
   "execution_count": 5,
   "id": "63a6d867-869e-42b2-bffa-52285665b82a",
   "metadata": {},
   "outputs": [],
   "source": [
    "##"
   ]
  },
  {
   "cell_type": "code",
   "execution_count": null,
   "id": "daafb20b-1ab2-45b5-bbd9-6393a8698462",
   "metadata": {},
   "outputs": [],
   "source": []
  },
  {
   "cell_type": "code",
   "execution_count": null,
   "id": "dfaab752-8f71-464e-b635-4a6941e58922",
   "metadata": {},
   "outputs": [],
   "source": []
  }
 ],
 "metadata": {
  "kernelspec": {
   "display_name": "Python 3",
   "language": "python",
   "name": "python3"
  },
  "language_info": {
   "codemirror_mode": {
    "name": "ipython",
    "version": 3
   },
   "file_extension": ".py",
   "mimetype": "text/x-python",
   "name": "python",
   "nbconvert_exporter": "python",
   "pygments_lexer": "ipython3",
   "version": "3.9.5"
  }
 },
 "nbformat": 4,
 "nbformat_minor": 5
}
