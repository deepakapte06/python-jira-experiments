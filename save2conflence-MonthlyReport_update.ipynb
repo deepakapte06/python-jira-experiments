{
 "cells": [
  {
   "cell_type": "markdown",
   "id": "a9d777c2-9492-46eb-bcce-2eb8b48a9659",
   "metadata": {},
   "source": [
    "### Data Initiatialization"
   ]
  },
  {
   "cell_type": "code",
   "execution_count": 1,
   "id": "6c57b729-452b-44b3-8616-b62706b1fa0e",
   "metadata": {},
   "outputs": [],
   "source": [
    "from atlassian import Confluence  \n",
    "import keyring  \n",
    "import requests\n",
    "import json\n",
    "from bs4 import BeautifulSoup\n",
    "from bs4 import BeautifulSoup as bs \n",
    "import re\n",
    "from jira import JIRA\n",
    "from jira.client import ResultList\n",
    "from jira.resources import Issue\n",
    "\n",
    "from IPython.display import display, HTML, display_html\n",
    "import pandas as pd\n",
    "import numpy as np\n",
    "\n",
    "from dateutil import parser\n",
    "from datetime import datetime\n",
    "import datetime as DT\n",
    "\n",
    "from html import unescape"
   ]
  },
  {
   "cell_type": "markdown",
   "id": "e33b284e-d8c6-474c-9209-9ef021816d4b",
   "metadata": {},
   "source": [
    "### Confluence Page Data Scrapper Rules"
   ]
  },
  {
   "cell_type": "code",
   "execution_count": 2,
   "id": "879ffdd1-213d-4ced-b188-ba7fd7ae50c6",
   "metadata": {},
   "outputs": [],
   "source": [
    "#get the authentication password from windows credential manager\n",
    "JIRA_USER = \"dapte\"\n",
    "JIRA_URL = \"https://jira.opentext.com/\"\n",
    "CONFLUENCE_URL = 'https://confluence.opentext.com/rest/api/content/'\n",
    "\n",
    "from_date = '2021/07/01' #yyyy/mm/dd\n",
    "to_date = '2021/07/31' #yyyy/mm/dd\n",
    "\n",
    "# Todo\n",
    "confluence_page_id = '516164418' \n",
    "#confluence_page_id = '516176304'# - temp page\n",
    "\n",
    "#Updates Stats - CE\n",
    "target_version='Target Version stack :'\n",
    "total_env_updated='Total Environments Updated:'\n",
    "total_prod_updated = 'Total Production updated:'\n",
    "update_done_xecmsf = 'xECM for SAP SucessFactors:'\n",
    "update_done_xecmp ='xECM for SAP Platform:'\n",
    "update_done_oob ='Office Online Broker:'\n",
    "\n",
    "#Updates Stats - Complex\n",
    "update_env_complex = 'Complex Environments Updated:'\n",
    "update_prod_complex = 'Complex Production updated:'\n",
    "details_complex = 'Details of Complex Updates:'\n",
    "\n",
    "# Adhoc Updates\n",
    "update_done_adhoc = 'Number of Requests Handled:'\n",
    "details_adhoc = 'Details of Adhoc Updates:'\n",
    "\n",
    "#Efforts\n",
    "\n",
    "# Pipeline Updates\n"
   ]
  },
  {
   "cell_type": "markdown",
   "id": "3293199f-e5af-4e9f-b985-0ecd10b28989",
   "metadata": {},
   "source": [
    "### Common Helper Functions"
   ]
  },
  {
   "cell_type": "code",
   "execution_count": 3,
   "id": "ad13c6ae-6bf0-45e3-bac1-9461f862eea6",
   "metadata": {},
   "outputs": [],
   "source": [
    "def get_page_json(page_id, expand, username, password, confluence_url):\n",
    "    url1=confluence_url \n",
    "    if expand:\n",
    "        suffix = \"?expand=\" + expand \n",
    "                              #body.storage\n",
    "    else:\n",
    "        suffix = \"\"\n",
    "\n",
    "    url = url1 + page_id + suffix\n",
    "    response = requests.get(url, auth=(username, password))\n",
    "    response.encoding = \"utf8\"\n",
    "    return json.loads(response.text)\n",
    "    \n",
    "\n",
    "def set_page_json(page_id,json_content,  username, password, confluence_url):\n",
    "    headers = {\n",
    "        'Content-Type': 'application/json',\n",
    "    }\n",
    "    url1=confluence_url\n",
    "    response = requests.put(url1 + page_id, headers=headers, data=json.dumps(json_content),\n",
    "                 auth=(username, password))\n",
    "    return(response.text)\n",
    "\n"
   ]
  },
  {
   "cell_type": "markdown",
   "id": "1cd02b5e-e05e-4eac-9bd3-103358299e68",
   "metadata": {},
   "source": [
    "### Jira Extractor Functions - Updates"
   ]
  },
  {
   "cell_type": "code",
   "execution_count": 4,
   "id": "404e4bf6-9d41-4ca7-835d-1f80f05a7b98",
   "metadata": {},
   "outputs": [],
   "source": [
    "#Updates Stats - CE\n",
    "def get_target_version():\n",
    "    return data\n",
    "\n",
    "def get_jira_count_str(jira,jql,jira_url):\n",
    "    print(jql)\n",
    "    issues =pd.Series(jira.search_issues(jql, maxResults=500, fields= 'key', json_result = None),dtype=pd.StringDtype())\n",
    "    #data = \"<a href=\\\"\"+str(jira_url)+\"\\\"><b>\"+str(issues.size)+\"</b></a>\"\n",
    "    #data = {}\n",
    "    #data.update({'url':str(jira_url),'value':str(issues.size)})\n",
    "    data = str(issues.size)\n",
    "    return data\n",
    "\n",
    "def get_total_env_updated(jira,JIRA_URL,from_date,to_date):\n",
    "    jql=\"labels = EMS_Update AND status = Closed  and Resolution = Done  and labels not in ('CAPPU_Documentum_Adhoc_Updates') and component != 'Custom' and duedate  > '\"+ str(from_date) +\"'   and duedate < '\"+str(to_date)+\"'\"\n",
    "    url=JIRA_URL+'issues/?jql='+jql\n",
    "    return get_jira_count_str(jira,jql,url)\n",
    "\n",
    "def get_total_prod_updated(jira,JIRA_URL,from_date,to_date):\n",
    "    jql=\"labels = EMS_Update AND status = Closed  and Resolution = Done  and environment ~ dynamicString('PROD', '')  and duedate  > '\"+ str(from_date) +\"'   and duedate < '\"+str(to_date)+\"'\"\n",
    "    url=JIRA_URL+'issues/?jql='+jql\n",
    "    return get_jira_count_str(jira,jql,url)\n",
    "\n",
    "def get_emsupdate_xecmsf(jira,JIRA_URL,from_date,to_date):\n",
    "    jql=\"labels = EMS_Update AND status = Closed  and Resolution = Done  and labels not in ('CAPPU_Documentum_Adhoc_Updates') and component != 'Custom' and component = 'xECMSF' and duedate  > '\"+ str(from_date) +\"'   and duedate < '\"+str(to_date)+\"'\"\n",
    "    url=JIRA_URL+'issues/?jql='+jql\n",
    "    return get_jira_count_str(jira,jql,url)\n",
    "\n",
    "def get_update_done_xecmp(jira,JIRA_URL,from_date,to_date):\n",
    "    jql=\"labels = EMS_Update AND status = Closed  and Resolution = Done  and labels not in ('CAPPU_Documentum_Adhoc_Updates') and component != 'Custom' and component = 'xECMPF' and duedate  > '\"+ str(from_date) +\"'   and duedate < '\"+str(to_date)+\"'\"\n",
    "    url=JIRA_URL+'issues/?jql='+jql\n",
    "    return get_jira_count_str(jira,jql,url)\n",
    "\n",
    "def get_update_done_oob(jira,JIRA_URL,from_date,to_date):\n",
    "    jql=\"labels = EMS_Update AND status = Closed  and Resolution = Done  and labels not in ('CAPPU_Documentum_Adhoc_Updates') and component != 'Custom' and component = 'OOB' and duedate  > '\"+ str(from_date) +\"'   and duedate < '\"+str(to_date)+\"'\"\n",
    "    url=JIRA_URL+'issues/?jql='+jql\n",
    "    return get_jira_count_str(jira,jql,url)\n",
    "\n",
    "#Updates Stats - Complex\n",
    "\n",
    "def get_update_env_complex(jira,JIRA_URL,from_date,to_date):\n",
    "    jql=\"labels = EMS_Update AND status = Closed  and Resolution = Done  and labels not in ('CAPPU_Documentum_Adhoc_Updates') and component = 'Custom' and duedate  > '\"+ str(from_date) +\"'   and duedate < '\"+str(to_date)+\"'\"\n",
    "    url=JIRA_URL+'issues/?jql='+jql\n",
    "    return get_jira_count_str(jira,jql,url)\n",
    "\n",
    "def get_update_prod_complex(jira,JIRA_URL,from_date,to_date):\n",
    "    jql=\"labels = EMS_Update AND status = Closed  and Resolution = Done  and labels not in ('CAPPU_Documentum_Adhoc_Updates') and environment ~ dynamicString('PROD', '') and  component = 'Custom' and duedate  > '\"+ str(from_date) +\"'   and duedate < '\"+str(to_date)+\"'\"\n",
    "    url=JIRA_URL+'issues/?jql='+jql\n",
    "    return get_jira_count_str(jira,jql,url)\n",
    "\n",
    "def get_details_complex():\n",
    "    return data\n",
    "\n",
    "# Adhoc Updates\n",
    "def get_update_done_adhoc(jira,JIRA_URL,from_date,to_date):\n",
    "    jql=\" status = Closed   and component = 'EMS_Adhoc'  and 'duedate'  > '\"+ str(from_date) +\"'   and 'duedate' < '\"+str(to_date)+\"'\"\n",
    "    url=JIRA_URL+'issues/?jql='+jql\n",
    "    return get_jira_count_str(jira,jql,url)\n",
    "def get_details_adhoc():\n",
    "    return data\n",
    "\n"
   ]
  },
  {
   "cell_type": "markdown",
   "id": "85a92a64-2aa9-426a-8998-e3288031c6d5",
   "metadata": {},
   "source": [
    "### Confluence functions"
   ]
  },
  {
   "cell_type": "code",
   "execution_count": 5,
   "id": "a1da1697-f89e-4823-af5b-efccd30435bb",
   "metadata": {},
   "outputs": [],
   "source": [
    "def create_update_response(soup,search_str,value):\n",
    "    newvalue=search_str+'<b>'+value+'</b>'\n",
    "    tag_li = soup.find_all('li')\n",
    "    for index,tag in enumerate(tag_li):\n",
    "        if(search_str in tag.text):\n",
    "            tag_li[index].clear()\n",
    "            b = soup.new_tag('b')\n",
    "            b.string = value\n",
    "            tag_li[index].insert(0, search_str)\n",
    "            tag_li[index].insert(1,b)\n",
    "    return soup\n",
    "\n",
    "def update_target_version(soup,search_str,value):\n",
    "    return create_update_response(soup,search_str,value)\n",
    "\n",
    "def update_total_env_updated(soup,search_str,value_dict):\n",
    " #   print(value_dict['url'])\n",
    " #   tag_li = soup.find_all('li')\n",
    " #   for index,tag in enumerate(tag_li):\n",
    " #       if(search_str in tag.text):\n",
    " #           print('-----------in if------------')\n",
    " #          # print(tag_li[index])\n",
    " #           tag_li[index].clear()\n",
    " #           a = soup.new_tag('a')\n",
    " #           a['href']=value_dict['url']\n",
    " #           a.string = value_dict['value']\n",
    " #           tag_li[index].insert(0, search_str)\n",
    " #           tag_li[index].insert(1,a)\n",
    "\n",
    "    return  create_update_response(soup,search_str,value_dict)\n",
    "\n",
    "def update_total_prod_updated(soup,search_str,value):\n",
    "    return create_update_response(soup,search_str,value)\n",
    "\n",
    "def publish_count_updated(soup,search_str,value):\n",
    "    return create_update_response(soup,search_str,value)\n"
   ]
  },
  {
   "cell_type": "markdown",
   "id": "2d96bae2-7816-4525-bbfa-a5fafdf69d29",
   "metadata": {},
   "source": [
    "### Jira Extractor Fuctions - Provisioning"
   ]
  },
  {
   "cell_type": "code",
   "execution_count": 6,
   "id": "b9b609f1-d61d-4b04-a441-a4cc73871794",
   "metadata": {},
   "outputs": [],
   "source": [
    "#todo"
   ]
  },
  {
   "cell_type": "markdown",
   "id": "6791a127-3fb7-455d-bf97-a580f8a797d8",
   "metadata": {},
   "source": [
    "### Jira / Confluence Page Iniatializer"
   ]
  },
  {
   "cell_type": "code",
   "execution_count": 7,
   "id": "dbebae37-f7c0-46c0-aa30-d10166eefb97",
   "metadata": {},
   "outputs": [],
   "source": [
    "\n",
    "keyring_cred=keyring.get_password('keyring_cred', JIRA_USER)\n",
    "\n",
    "#instantiate a jira object.\n",
    "jira = JIRA(\n",
    "    server = JIRA_URL,\n",
    "    basic_auth=(JIRA_USER, keyring_cred)\n",
    ")\n",
    "###\n",
    "#data = get_total_env_updated(jira,JIRA_URL,from_date,to_date)\n",
    "#print(data)\n",
    "#data = get_total_prod_updated(jira,JIRA_URL,from_date,to_date)\n",
    "#print(data)\n",
    "#data = get_emsupdate_xecmsf(jira,JIRA_URL,from_date,to_date)\n",
    "#print(data)\n",
    "#data = get_update_done_xecmp(jira,JIRA_URL,from_date,to_date)\n",
    "#print(data)\n",
    "#data = get_update_done_oob(jira,JIRA_URL,from_date,to_date)\n",
    "#print(data)\n",
    "#data = get_update_env_complex(jira,JIRA_URL,from_date,to_date)\n",
    "#print(data)\n",
    "#data = get_update_prod_complex(jira,JIRA_URL,from_date,to_date)\n",
    "#print(data)\n",
    "#data = get_update_done_adhoc(jira,JIRA_URL,from_date,to_date)\n",
    "#print(data)\n",
    "###\n",
    "\n",
    "\n",
    "\n",
    "#confluence = Confluence(\n",
    "#    url= CONFLUENCE_URL,\n",
    "#    username=JIRA_USER, password=keyring_cred\n",
    "#)\n"
   ]
  },
  {
   "cell_type": "markdown",
   "id": "592bb624-d3a7-469b-a19d-2f94e4baff7e",
   "metadata": {},
   "source": [
    "### Data Extraction from Jira"
   ]
  },
  {
   "cell_type": "code",
   "execution_count": 8,
   "id": "1ef3cd8e-36bc-4ccf-ba2e-42f89a1144fd",
   "metadata": {},
   "outputs": [],
   "source": [
    "#Todo"
   ]
  },
  {
   "cell_type": "markdown",
   "id": "b1a0fcd1-5166-414c-b201-5e28f848f7c2",
   "metadata": {},
   "source": [
    "### Beautiful Soap Object Updation with Jira Data"
   ]
  },
  {
   "cell_type": "code",
   "execution_count": 9,
   "id": "f8b40f89-adca-44e8-8b10-e35581cc2e32",
   "metadata": {},
   "outputs": [],
   "source": [
    "#todo"
   ]
  },
  {
   "cell_type": "markdown",
   "id": "9cf9e5e9-220a-4235-a4fa-0d13bc8a92ec",
   "metadata": {},
   "source": [
    "### Validation and Push to Confluence"
   ]
  },
  {
   "cell_type": "code",
   "execution_count": 10,
   "id": "a709008d-063b-4392-b83e-77c2a4f63808",
   "metadata": {},
   "outputs": [
    {
     "name": "stdout",
     "output_type": "stream",
     "text": [
      "-------------------------------------------------------\n",
      "labels = EMS_Update AND status = Closed  and Resolution = Done  and labels not in ('CAPPU_Documentum_Adhoc_Updates') and component != 'Custom' and duedate  > '2021/07/01'   and duedate < '2021/07/31'\n",
      "labels = EMS_Update AND status = Closed  and Resolution = Done  and environment ~ dynamicString('PROD', '')  and duedate  > '2021/07/01'   and duedate < '2021/07/31'\n",
      " status = Closed   and component = 'EMS_Adhoc'  and 'duedate'  > '2021/07/01'   and 'duedate' < '2021/07/31'\n",
      "labels = EMS_Update AND status = Closed  and Resolution = Done  and labels not in ('CAPPU_Documentum_Adhoc_Updates') and component != 'Custom' and component = 'xECMPF' and duedate  > '2021/07/01'   and duedate < '2021/07/31'\n",
      "labels = EMS_Update AND status = Closed  and Resolution = Done  and labels not in ('CAPPU_Documentum_Adhoc_Updates') and component != 'Custom' and component = 'OOB' and duedate  > '2021/07/01'   and duedate < '2021/07/31'\n",
      "labels = EMS_Update AND status = Closed  and Resolution = Done  and labels not in ('CAPPU_Documentum_Adhoc_Updates') and component = 'Custom' and duedate  > '2021/07/01'   and duedate < '2021/07/31'\n",
      "labels = EMS_Update AND status = Closed  and Resolution = Done  and labels not in ('CAPPU_Documentum_Adhoc_Updates') and environment ~ dynamicString('PROD', '') and  component = 'Custom' and duedate  > '2021/07/01'   and duedate < '2021/07/31'\n",
      " status = Closed   and component = 'EMS_Adhoc'  and 'duedate'  > '2021/07/01'   and 'duedate' < '2021/07/31'\n"
     ]
    },
    {
     "data": {
      "text/plain": [
       "'{\"id\":\"516164418\",\"type\":\"page\",\"status\":\"current\",\"title\":\"EMS Dashboard - August 2021\",\"space\":{\"id\":464748548,\"key\":\"CAPT\",\"name\":\"Cloud Application Provisioning Updates\",\"type\":\"global\",\"_links\":{\"webui\":\"/display/CAPT\",\"self\":\"https://confluence.opentext.com/rest/api/space/CAPT\"},\"_expandable\":{\"metadata\":\"\",\"icon\":\"\",\"description\":\"\"}},\"history\":{\"latest\":true,\"createdBy\":{\"type\":\"known\",\"username\":\"dapte\",\"userKey\":\"8a82f2295eaf5345015ed2f8591400e3\",\"profilePicture\":{\"path\":\"/images/icons/profilepics/default.svg\",\"width\":48,\"height\":48,\"isDefault\":true},\"displayName\":\"Deepak Apte\",\"_links\":{\"self\":\"https://confluence.opentext.com/rest/api/user?key=8a82f2295eaf5345015ed2f8591400e3\"},\"_expandable\":{\"status\":\"\"}},\"createdDate\":\"2021-08-03T04:46:19.343-04:00\",\"_links\":{\"self\":\"https://confluence.opentext.com/rest/api/content/516164418/history\"},\"_expandable\":{\"lastUpdated\":\"\",\"previousVersion\":\"\",\"contributors\":\"\",\"nextVersion\":\"\"}},\"version\":{\"by\":{\"type\":\"known\",\"username\":\"dapte\",\"userKey\":\"8a82f2295eaf5345015ed2f8591400e3\",\"profilePicture\":{\"path\":\"/images/icons/profilepics/default.svg\",\"width\":48,\"height\":48,\"isDefault\":true},\"displayName\":\"Deepak Apte\",\"_links\":{\"self\":\"https://confluence.opentext.com/rest/api/user?key=8a82f2295eaf5345015ed2f8591400e3\"},\"_expandable\":{\"status\":\"\"}},\"when\":\"2021-08-09T01:43:29.802-04:00\",\"number\":59,\"minorEdit\":false,\"hidden\":false,\"_links\":{\"self\":\"https://confluence.opentext.com/rest/experimental/content/516164418/version/59\"},\"_expandable\":{\"content\":\"/rest/api/content/516164418\"}},\"ancestors\":[{\"id\":\"515114184\",\"type\":\"page\",\"status\":\"current\",\"title\":\"Temporary Page Tree\",\"extensions\":{\"position\":3},\"_links\":{\"webui\":\"/display/CAPT/Temporary+Page+Tree\",\"edit\":\"/pages/resumedraft.action?draftId=515114184\",\"tinyui\":\"/x/yAS0Hg\",\"self\":\"https://confluence.opentext.com/rest/api/content/515114184\"},\"_expandable\":{\"container\":\"/rest/api/space/CAPT\",\"metadata\":\"\",\"operations\":\"\",\"children\":\"/rest/api/content/515114184/child\",\"restrictions\":\"/rest/api/content/515114184/restriction/byOperation\",\"history\":\"/rest/api/content/515114184/history\",\"ancestors\":\"\",\"body\":\"\",\"version\":\"\",\"descendants\":\"/rest/api/content/515114184/descendant\",\"space\":\"/rest/api/space/CAPT\"}}],\"container\":{\"id\":464748548,\"key\":\"CAPT\",\"name\":\"Cloud Application Provisioning Updates\",\"type\":\"global\",\"_links\":{\"webui\":\"/display/CAPT\",\"self\":\"https://confluence.opentext.com/rest/api/space/CAPT\"},\"_expandable\":{\"metadata\":\"\",\"icon\":\"\",\"description\":\"\"}},\"body\":{\"storage\":{\"value\":\"<ac:layout><ac:layout-section ac:type=\\\\\"two_equal\\\\\"><ac:layout-cell><p>&larr;&nbsp;Previous Month</p></ac:layout-cell><ac:layout-cell><p style=\\\\\"text-align: right;\\\\\">Next Month&nbsp;<span>&rarr;</span>&nbsp;</p></ac:layout-cell></ac:layout-section><ac:layout-section ac:type=\\\\\"two_equal\\\\\"><ac:layout-cell><h2>EMS provisioning Team is responsible for setting up new EMS customers and Updating the Application Versions&nbsp;</h2></ac:layout-cell><ac:layout-cell><h2 style=\\\\\"text-align: right;\\\\\">Overall Health Status as of&nbsp;<time datetime=\\\\\"2021-08-02\\\\\" />&nbsp;<ac:structured-macro ac:name=\\\\\"status\\\\\" ac:schema-version=\\\\\"1\\\\\" ac:macro-id=\\\\\"de8db8d9-96d0-47de-9af4-d928fa990201\\\\\"><ac:parameter ac:name=\\\\\"colour\\\\\">Green</ac:parameter><ac:parameter ac:name=\\\\\"title\\\\\">Healthy</ac:parameter></ac:structured-macro></h2></ac:layout-cell></ac:layout-section><ac:layout-section ac:type=\\\\\"three_equal\\\\\"><ac:layout-cell><ac:structured-macro ac:name=\\\\\"panel\\\\\" ac:schema-version=\\\\\"1\\\\\" ac:macro-id=\\\\\"caa41d60-4edf-4e74-b126-8a54f5ef730d\\\\\"><ac:rich-text-body><h2><strong>Information</strong></h2><h3>Customer Information</h3><ul><li><p><span>Number of customers:&nbsp;</span></p><ac:structured-macro ac:name=\\\\\"div\\\\\" ac:schema-version=\\\\\"1\\\\\" ac:macro-id=\\\\\"d03306a0-0baf-4811-ac53-608e78dd69bd\\\\\"><ac:parameter ac:name=\\\\\"id\\\\\">custcount</ac:parameter><ac:rich-text-body><p><span>&nbsp;<a href=\\\\\"https://jira.opentext.com/issues/?filter=153346\\\\\">1111</a> </span></p></ac:rich-text-body></ac:structured-macro><p><br /></p><ul><li><span>EMS :&nbsp;</span></li><li><span>DaaS :&nbsp;</span></li><li><span>Cloud Editions:</span></li></ul></li><li><span>Customer list by</span><ul><li><span>Region / Datacenter</span><ul><li><span>Americas :</span></li><li><span>Americas US Only:&nbsp;</span></li><li><span>EMEA :</span></li><li><span>EMEA DPZ :</span></li><li><span>APJ:</span></li></ul></li><li><span>Deal Type</span><ul><li><span>SAP</span></li><li><span>Direct Sale</span></li></ul></li><li><span>Status</span><ul><li><span>Build</span></li><li><span>Onboarding</span></li><li><span>Live</span></li></ul></li><li><p>Solutions</p><ul><li><p>Cloud Editions</p><ul><li>xECM for SAP SF</li><li>xECM for SAP Platform</li><li>Office Online Broker</li><li>Content Suit Platform</li><li>Document Presentment</li><li>SAP DAM Hybrise</li></ul></li><li><p>Custom Deployments</p><p><br /></p></li></ul></li><li>Cloud Editions By Versions<ul><li>Current ( -1)</li><li>Aging</li></ul></li></ul></li><li>Engineering Builds<ul><li>By Solution</li><li>By Type</li><li>By Version</li></ul></li></ul><h3>&nbsp;Cloud Operations Statistics</h3><ul><li><span>Number of Environments : #count</span><ul><li><span>EMS :&nbsp;</span></li><li><span>DaaS :&nbsp;</span></li><li><span>Cloud Editions:&nbsp;</span></li></ul></li><li><span>Supported Platform and Regions :</span></li></ul><h3>Supported Platforms &amp; Regions</h3><ul><li><span>AWS</span><ul><li><span>Region A</span></li><li><span>Region B</span></li></ul></li><li><span>GKE</span><ul><li><span>Region A</span></li><li><span>Region B</span></li></ul></li><li><span>Azure</span></li><li><span>OT Cloud</span><ul><li><span>Lithia</span></li><li><span>AM3</span></li><li><span>Syd</span></li></ul></li><li><span>DaaS</span><ul><li><span>USNV</span></li><li><span>USVA</span></li><li><span>OnPrem</span><ul><li><span>Eric</span></li><li><span>Prud</span></li><li><span>...</span></li></ul></li></ul></li></ul><p><br /></p></ac:rich-text-body></ac:structured-macro></ac:layout-cell><ac:layout-cell><ac:structured-macro ac:name=\\\\\"panel\\\\\" ac:schema-version=\\\\\"1\\\\\" ac:macro-id=\\\\\"c6576fc7-7a78-4cc1-b902-1f466797ed1c\\\\\"><ac:rich-text-body><h2><strong>Actionable Items</strong></h2><h3>EMS Provisioning</h3><ul><li>TBD</li></ul><h3>EMS Cloud Edition Updates&nbsp;</h3><ul><li>Target Version stack :<b>21.2</b></li></ul><ul><li>Total Environments Updated:<b>28</b></li><li>Total Production updated:<b>14</b></li><li>Complex Production updated:<b>1</b></li></ul><table class=\\\\\"wrapped\\\\\"><colgroup> <col /> <col /> </colgroup><tbody><tr><th>Solution</th><th>Count</th></tr><tr><td><span style=\\\\\"color: rgb(0,128,0);\\\\\"> <em>xECM SF</em> </span></td><td style=\\\\\"text-align: center;\\\\\"><span style=\\\\\"color: rgb(0,128,0);\\\\\"> <em>10</em> </span></td></tr><tr><td><span style=\\\\\"color: rgb(0,128,0);\\\\\"> <em>Platform</em> </span></td><td style=\\\\\"text-align: center;\\\\\"><span style=\\\\\"color: rgb(0,128,0);\\\\\"> <em>2</em> </span></td></tr><tr><td><span style=\\\\\"color: rgb(0,128,0);\\\\\"> <em>OOB</em> </span></td><td style=\\\\\"text-align: center;\\\\\"><span style=\\\\\"color: rgb(0,128,0);\\\\\"> <em>14</em> </span></td></tr></tbody></table><h3>EMS Complex Environment Updates</h3><ul><li>Total Environments Updated:<b>28</b></li><li>Total Production updated:<b>14</b></li></ul><p><strong>xECM</strong> - <em>HollyFrontier</em> Production Environment updated to 20.4</p><p><strong>SAP DAM</strong> - <em>MARS</em> TEST to 21.2</p><h3>&nbsp;Adhoc Requests</h3><ul><li>Number of Requests Handled:<b>12</b></li><li>Effort spent: <strong>16h</strong></li></ul><h3><strong>Effort / count&nbsp; Pie Graph</strong></h3><table class=\\\\\"relative-table wrapped\\\\\" style=\\\\\"width: 82.1125%;\\\\\"><colgroup> <col style=\\\\\"width: 28.8963%;\\\\\" /> <col style=\\\\\"width: 37.4582%;\\\\\" /> <col style=\\\\\"width: 33.1773%;\\\\\" /> </colgroup><tbody><tr><th>Request Type</th><th>Number of Requests</th><th>Effort in Minutes</th></tr><tr><td><em>Adhoc</em></td><td style=\\\\\"text-align: center;\\\\\"><em>16</em></td><td style=\\\\\"text-align: center;\\\\\"><em>6120</em></td></tr><tr><td><em>CE</em></td><td style=\\\\\"text-align: center;\\\\\"><em>26</em></td><td style=\\\\\"text-align: center;\\\\\"><em>8778</em></td></tr><tr><td><em>Custom</em></td><td style=\\\\\"text-align: center;\\\\\"><em>2</em></td><td style=\\\\\"text-align: center;\\\\\"><em>4560</em></td></tr><tr><td><em>Grand Total</em></td><td style=\\\\\"text-align: center;\\\\\"><em>44</em></td><td style=\\\\\"text-align: center;\\\\\"><em>19858</em></td></tr></tbody></table><ac:structured-macro ac:name=\\\\\"chart\\\\\" ac:schema-version=\\\\\"1\\\\\" ac:macro-id=\\\\\"bf657db1-a45e-4511-b9d8-86c64771b55d\\\\\"><ac:parameter ac:name=\\\\\"3D\\\\\">true</ac:parameter><ac:parameter ac:name=\\\\\"dataDisplay\\\\\">after</ac:parameter><ac:parameter ac:name=\\\\\"showShapes\\\\\">false</ac:parameter><ac:parameter ac:name=\\\\\"columns\\\\\">1,2</ac:parameter><ac:rich-text-body><p>Request Type| Effort in Minutes</p><p>Adhoc|6120</p><p>CE|8778</p><p>Custom|4560</p><p><br /></p></ac:rich-text-body></ac:structured-macro><p><br /></p><p>CE vs Custom vs Adhoc</p><h3><strong>Percentage of CE on Current version stack</strong></h3><table class=\\\\\"relative-table wrapped\\\\\" style=\\\\\"width: 78.3102%;\\\\\"><colgroup> <col style=\\\\\"width: 23.6909%;\\\\\" /> <col style=\\\\\"width: 27.9984%;\\\\\" /> <col style=\\\\\"width: 48.1895%;\\\\\" /> </colgroup><tbody><tr><th>Solution</th><th>Customers</th><th>On Current version</th></tr><tr><td><em> <span style=\\\\\"color: rgb(0,128,0);\\\\\">SF</span> </em></td><td style=\\\\\"text-align: center;\\\\\"><em> <span style=\\\\\"color: rgb(0,128,0);\\\\\">70</span> </em></td><td style=\\\\\"text-align: center;\\\\\"><em> <span style=\\\\\"color: rgb(0,128,0);\\\\\">9</span> </em></td></tr><tr><td><em> <span style=\\\\\"color: rgb(0,128,0);\\\\\">PF</span> </em></td><td style=\\\\\"text-align: center;\\\\\"><em> <span style=\\\\\"color: rgb(0,128,0);\\\\\">17</span> </em></td><td style=\\\\\"text-align: center;\\\\\"><em> <span style=\\\\\"color: rgb(0,128,0);\\\\\">7</span> </em></td></tr><tr><td><em> <span style=\\\\\"color: rgb(0,128,0);\\\\\">OOB</span> </em></td><td style=\\\\\"text-align: center;\\\\\"><em> <span style=\\\\\"color: rgb(0,128,0);\\\\\">37</span> </em></td><td style=\\\\\"text-align: center;\\\\\"><em> <span style=\\\\\"color: rgb(0,128,0);\\\\\">19</span> </em></td></tr></tbody></table><p><br /><span style=\\\\\"letter-spacing: 0.0px;\\\\\"> <ac:image ac:border=\\\\\"true\\\\\" ac:height=\\\\\"250\\\\\" ac:queryparams=\\\\\"effects=border-simple,shadow-kn\\\\\" ac:width=\\\\\"418\\\\\"><ri:attachment ri:filename=\\\\\"image2021-8-6_16-6-51.png\\\\\" /></ac:image> </span></p><ul><li>Update the CARS with the version number</li><li>Report the CARS object</li></ul><h3>Active Escalations</h3><ul><li>to be manually updated</li></ul><h3>EMS Cloud Edition Dry Runs</h3><p><br /></p></ac:rich-text-body></ac:structured-macro><ac:structured-macro ac:name=\\\\\"panel\\\\\" ac:schema-version=\\\\\"1\\\\\" ac:macro-id=\\\\\"5a76d95d-5064-4a44-8356-4f94edd1d0dd\\\\\"><ac:rich-text-body><h2><strong>Projects and Initiatives</strong></h2><h3>EMS Infra Requests Handled</h3><h3>CI/CD Pipeline Initiative Actions</h3><h3>Team Training and Brownbag</h3><h3>&nbsp;Automation Initiatives</h3><h3>Team Utilization Metrix</h3><p><br /></p><p><br /></p></ac:rich-text-body></ac:structured-macro></ac:layout-cell><ac:layout-cell><ac:structured-macro ac:name=\\\\\"panel\\\\\" ac:schema-version=\\\\\"1\\\\\" ac:macro-id=\\\\\"f4d92ffe-8f39-402e-b16b-33fa1932a9c9\\\\\"><ac:rich-text-body><h2><strong>Roadmap and Milestone</strong></h2><h3>Provisioning and Updates</h3><h3>EMS Provisioning</h3><h3>EMS Cloud Edition Updates</h3><table class=\\\\\"wrapped relative-table\\\\\" style=\\\\\"width: 78.5862%;\\\\\"><colgroup> <col style=\\\\\"width: 33.3801%;\\\\\" /> <col style=\\\\\"width: 37.8682%;\\\\\" /> </colgroup><tbody><tr><th>Solution</th><th>Scheduled</th></tr><tr><td>xECM SF</td><td><div class=\\\\\"content-wrapper\\\\\"><p><ac:structured-macro ac:name=\\\\\"jira\\\\\" ac:schema-version=\\\\\"1\\\\\" ac:macro-id=\\\\\"1087f86e-c6b5-4980-a5c6-9259e86371a4\\\\\"><ac:parameter ac:name=\\\\\"server\\\\\">JIRA OpenText</ac:parameter><ac:parameter ac:name=\\\\\"jqlQuery\\\\\">labels = EMS_Update AND project = &quot;EMS Cloud App PPU Team&quot; AND component =xECMSF and due &gt;= startOfMonth() AND due &lt;= endOfMonth() AND status = &quot;To Do&quot;  </ac:parameter><ac:parameter ac:name=\\\\\"count\\\\\">true</ac:parameter><ac:parameter ac:name=\\\\\"serverId\\\\\">fe7ee9a4-fa1e-3d90-bee0-600538a22226</ac:parameter></ac:structured-macro></p></div></td></tr><tr><td>xECM PF</td><td><div class=\\\\\"content-wrapper\\\\\"><p><ac:structured-macro ac:name=\\\\\"jira\\\\\" ac:schema-version=\\\\\"1\\\\\" ac:macro-id=\\\\\"98e8ad93-2d7e-4e10-b977-49b299f4ca43\\\\\"><ac:parameter ac:name=\\\\\"server\\\\\">JIRA OpenText</ac:parameter><ac:parameter ac:name=\\\\\"jqlQuery\\\\\">labels = EMS_Update AND project = &quot;EMS Cloud App PPU Team&quot; AND component =OOB and due &gt;= startOfMonth() AND due &lt;= endOfMonth() AND status = &quot;To Do&quot;  </ac:parameter><ac:parameter ac:name=\\\\\"count\\\\\">true</ac:parameter><ac:parameter ac:name=\\\\\"serverId\\\\\">fe7ee9a4-fa1e-3d90-bee0-600538a22226</ac:parameter></ac:structured-macro></p></div></td></tr><tr><td>OOB</td><td><div class=\\\\\"content-wrapper\\\\\"><p><ac:structured-macro ac:name=\\\\\"jira\\\\\" ac:schema-version=\\\\\"1\\\\\" ac:macro-id=\\\\\"61b42b16-1f42-4b21-970e-c8d20111483d\\\\\"><ac:parameter ac:name=\\\\\"server\\\\\">JIRA OpenText</ac:parameter><ac:parameter ac:name=\\\\\"jqlQuery\\\\\">labels = EMS_Update AND project = &quot;EMS Cloud App PPU Team&quot; AND component =CCP and due &gt;= startOfMonth() AND due &lt;= endOfMonth() AND status = &quot;To Do&quot;  </ac:parameter><ac:parameter ac:name=\\\\\"count\\\\\">true</ac:parameter><ac:parameter ac:name=\\\\\"serverId\\\\\">fe7ee9a4-fa1e-3d90-bee0-600538a22226</ac:parameter></ac:structured-macro></p></div></td></tr><tr><td colspan=\\\\\"1\\\\\">CCP</td><td colspan=\\\\\"1\\\\\"><div class=\\\\\"content-wrapper\\\\\"><p><ac:structured-macro ac:name=\\\\\"jira\\\\\" ac:schema-version=\\\\\"1\\\\\" ac:macro-id=\\\\\"ef6c3396-cd77-4516-b661-6fadc90b69ba\\\\\"><ac:parameter ac:name=\\\\\"server\\\\\">JIRA OpenText</ac:parameter><ac:parameter ac:name=\\\\\"jqlQuery\\\\\">labels = EMS_Update AND project = &quot;EMS Cloud App PPU Team&quot; AND component =xECMPF and due &gt;= startOfMonth() AND due &lt;= endOfMonth() AND status = &quot;To Do&quot;  </ac:parameter><ac:parameter ac:name=\\\\\"count\\\\\">true</ac:parameter><ac:parameter ac:name=\\\\\"serverId\\\\\">fe7ee9a4-fa1e-3d90-bee0-600538a22226</ac:parameter></ac:structured-macro></p></div></td></tr></tbody></table><p>&nbsp;+ Manual Entry</p><h3>EMS Complex Environment Updates</h3><table class=\\\\\"wrapped\\\\\"><colgroup> <col /> <col /> </colgroup><tbody><tr><th>Solution</th><th>Due Date</th></tr><tr><td><br /></td><td><br /></td></tr><tr><td><br /></td><td><br /></td></tr><tr><td><br /></td><td><br /></td></tr></tbody></table><p>+ Manual Entry</p><h3>EMS Cloud Edition Dry Runs</h3><p><br /></p></ac:rich-text-body></ac:structured-macro></ac:layout-cell></ac:layout-section><ac:layout-section ac:type=\\\\\"single\\\\\"><ac:layout-cell><ac:structured-macro ac:name=\\\\\"expand\\\\\" ac:schema-version=\\\\\"1\\\\\" ac:macro-id=\\\\\"ba5815cf-e67d-4195-a28c-c3ca2dca8dc7\\\\\"><ac:parameter ac:name=\\\\\"title\\\\\">Details Click here to expand...</ac:parameter><ac:rich-text-body><p>Completed Updates for the Month</p><p><ac:structured-macro ac:name=\\\\\"jira\\\\\" ac:schema-version=\\\\\"1\\\\\" ac:macro-id=\\\\\"cc61e050-65a8-4d9a-89bf-f061761d9272\\\\\"><ac:parameter ac:name=\\\\\"server\\\\\">JIRA OpenText</ac:parameter><ac:parameter ac:name=\\\\\"columnIds\\\\\">issuekey,summary,duedate,status,components,labels</ac:parameter><ac:parameter ac:name=\\\\\"columns\\\\\">key,summary,due,status,components,labels</ac:parameter><ac:parameter ac:name=\\\\\"maximumIssues\\\\\">20</ac:parameter><ac:parameter ac:name=\\\\\"jqlQuery\\\\\">labels = EMS_Update AND status = Closed  and Resolution = Done  and labels not in (\\'CAPPU_Documentum_Adhoc_Updates\\') and component != \\'Custom\\' and duedate  &gt; \\'2021/07/01\\'   and duedate &lt; \\'2021/07/31\\'   </ac:parameter><ac:parameter ac:name=\\\\\"serverId\\\\\">fe7ee9a4-fa1e-3d90-bee0-600538a22226</ac:parameter></ac:structured-macro></p></ac:rich-text-body></ac:structured-macro><p><br /></p><p><br /></p></ac:layout-cell></ac:layout-section></ac:layout>\",\"representation\":\"storage\",\"_expandable\":{\"content\":\"/rest/api/content/516164418\"}},\"_expandable\":{\"editor\":\"\",\"view\":\"\",\"export_view\":\"\",\"styled_view\":\"\",\"anonymous_export_view\":\"\"}},\"extensions\":{\"position\":1},\"_links\":{\"webui\":\"/display/CAPT/EMS+Dashboard+-+August+2021\",\"edit\":\"/pages/resumedraft.action?draftId=516164418\",\"tinyui\":\"/x/QgvEHg\",\"collection\":\"/rest/api/content\",\"base\":\"https://confluence.opentext.com\",\"context\":\"\",\"self\":\"https://confluence.opentext.com/rest/api/content/516164418\"},\"_expandable\":{\"metadata\":\"\",\"operations\":\"\",\"children\":\"/rest/api/content/516164418/child\",\"restrictions\":\"/rest/api/content/516164418/restriction/byOperation\",\"descendants\":\"/rest/api/content/516164418/descendant\"}}'"
      ]
     },
     "execution_count": 10,
     "metadata": {},
     "output_type": "execute_result"
    }
   ],
   "source": [
    "\n",
    "\n",
    "#516176304\n",
    "#json_data = get_page_json('516164418',\"body.storage\")\n",
    "#json_data = get_page_json('516176304',\"body.storage,version\", )  get_page_json(page_id, expand, username, password, confluence_url)\n",
    "json_data = get_page_json(confluence_page_id,\"body.storage,version\",JIRA_USER,keyring_cred, CONFLUENCE_URL)\n",
    "page_body = json_data['body']['storage']['value']\n",
    "\n",
    "soup = BeautifulSoup(page_body, 'html.parser')\n",
    "\n",
    "\n",
    "#print(page_body)\n",
    "print('-------------------------------------------------------')\n",
    "page_body=str(update_target_version(soup,target_version,'21.2'))\n",
    "\n",
    "\n",
    "\n",
    "page_body= publish_count_updated(soup,total_env_updated,get_total_env_updated(jira,JIRA_URL,from_date,to_date))\n",
    "page_body =  publish_count_updated(soup,total_prod_updated,get_total_prod_updated(jira,JIRA_URL,from_date,to_date))\n",
    "\n",
    "\n",
    "page_body =  publish_count_updated(soup,update_done_xecmsf,get_update_done_adhoc(jira,JIRA_URL,from_date,to_date))\n",
    "page_body =  publish_count_updated(soup,update_done_xecmp,get_update_done_xecmp(jira,JIRA_URL,from_date,to_date))\n",
    "page_body =  publish_count_updated(soup,update_done_oob,get_update_done_oob(jira,JIRA_URL,from_date,to_date))\n",
    "#Updates Stats - Complex\n",
    "\n",
    "page_body =  publish_count_updated(soup,update_env_complex,get_update_env_complex(jira,JIRA_URL,from_date,to_date))\n",
    "page_body =  publish_count_updated(soup,update_prod_complex,get_update_prod_complex(jira,JIRA_URL,from_date,to_date))\n",
    "\n",
    "# Adhoc Updates\n",
    "page_body =  publish_count_updated(soup,update_done_adhoc,get_update_done_adhoc(jira,JIRA_URL,from_date,to_date))\n",
    "#publish_count_updated\n",
    "\n",
    "\n",
    "#print(page_body)\n",
    "page_body=str(page_body)\n",
    "\n",
    "\n",
    "new_json_data = dict()\n",
    "new_json_data = json_data\n",
    "new_json_data['id']=json_data['id']\n",
    "new_json_data['type'] = json_data['type']\n",
    "new_json_data['title'] = json_data['title']\n",
    "new_json_data['type'] = json_data['type']\n",
    "new_json_data['version'] = {\"number\": json_data['version']['number'] + 1}\n",
    "    \n",
    "new_json_data['body']['storage']['value'] = page_body \n",
    "\n",
    "# Call this to push the update to confluence \n",
    "set_page_json(confluence_page_id,new_json_data,JIRA_USER,keyring_cred,CONFLUENCE_URL)"
   ]
  },
  {
   "cell_type": "markdown",
   "id": "b9f9f6f3-2129-4ec4-8a62-ca2c0d7f9009",
   "metadata": {},
   "source": [
    "### "
   ]
  },
  {
   "cell_type": "code",
   "execution_count": null,
   "id": "e833a9aa-e5fd-41c1-a9b6-85a745034a23",
   "metadata": {},
   "outputs": [],
   "source": []
  },
  {
   "cell_type": "code",
   "execution_count": null,
   "id": "f3280a3f-d2a6-4283-baa8-51eb222637fa",
   "metadata": {},
   "outputs": [],
   "source": []
  },
  {
   "cell_type": "code",
   "execution_count": null,
   "id": "067d3de5-c661-4bde-b8d7-23a899c78841",
   "metadata": {},
   "outputs": [],
   "source": []
  }
 ],
 "metadata": {
  "kernelspec": {
   "display_name": "Python 3",
   "language": "python",
   "name": "python3"
  },
  "language_info": {
   "codemirror_mode": {
    "name": "ipython",
    "version": 3
   },
   "file_extension": ".py",
   "mimetype": "text/x-python",
   "name": "python",
   "nbconvert_exporter": "python",
   "pygments_lexer": "ipython3",
   "version": "3.9.5"
  }
 },
 "nbformat": 4,
 "nbformat_minor": 5
}
